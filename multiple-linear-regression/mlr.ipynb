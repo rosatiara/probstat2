{
 "cells": [
  {
   "attachments": {},
   "cell_type": "markdown",
   "metadata": {},
   "source": [
    "# Multiple Linear Regression\n",
    "Multiple linear regression is an extension of simple linear regression which takes more than one independent variable to predict the outcome by fitting a best linear relationship.\n",
    "\n",
    "## Steps\n",
    "1. Set the values for independent (X) and dependent (Y) variables\n",
    "2. Split data into train & test set\n",
    "3. Implementing the linear model\n",
    "\n"
   ]
  },
  {
   "cell_type": "code",
   "execution_count": 15,
   "metadata": {},
   "outputs": [],
   "source": [
    "import pandas as pd\n",
    "import numpy as np\n",
    "import matplotlib.pyplot as plt\n",
    "import seaborn as sns"
   ]
  },
  {
   "cell_type": "code",
   "execution_count": 16,
   "metadata": {},
   "outputs": [
    {
     "data": {
      "text/html": [
       "<div>\n",
       "<style scoped>\n",
       "    .dataframe tbody tr th:only-of-type {\n",
       "        vertical-align: middle;\n",
       "    }\n",
       "\n",
       "    .dataframe tbody tr th {\n",
       "        vertical-align: top;\n",
       "    }\n",
       "\n",
       "    .dataframe thead th {\n",
       "        text-align: right;\n",
       "    }\n",
       "</style>\n",
       "<table border=\"1\" class=\"dataframe\">\n",
       "  <thead>\n",
       "    <tr style=\"text-align: right;\">\n",
       "      <th></th>\n",
       "      <th>TV</th>\n",
       "      <th>Radio</th>\n",
       "      <th>Newspaper</th>\n",
       "      <th>Sales</th>\n",
       "    </tr>\n",
       "  </thead>\n",
       "  <tbody>\n",
       "    <tr>\n",
       "      <th>0</th>\n",
       "      <td>230.1</td>\n",
       "      <td>37.8</td>\n",
       "      <td>69.2</td>\n",
       "      <td>22.1</td>\n",
       "    </tr>\n",
       "    <tr>\n",
       "      <th>1</th>\n",
       "      <td>44.5</td>\n",
       "      <td>39.3</td>\n",
       "      <td>45.1</td>\n",
       "      <td>10.4</td>\n",
       "    </tr>\n",
       "    <tr>\n",
       "      <th>2</th>\n",
       "      <td>17.2</td>\n",
       "      <td>45.9</td>\n",
       "      <td>69.3</td>\n",
       "      <td>12.0</td>\n",
       "    </tr>\n",
       "    <tr>\n",
       "      <th>3</th>\n",
       "      <td>151.5</td>\n",
       "      <td>41.3</td>\n",
       "      <td>58.5</td>\n",
       "      <td>16.5</td>\n",
       "    </tr>\n",
       "    <tr>\n",
       "      <th>4</th>\n",
       "      <td>180.8</td>\n",
       "      <td>10.8</td>\n",
       "      <td>58.4</td>\n",
       "      <td>17.9</td>\n",
       "    </tr>\n",
       "    <tr>\n",
       "      <th>5</th>\n",
       "      <td>8.7</td>\n",
       "      <td>48.9</td>\n",
       "      <td>75.0</td>\n",
       "      <td>7.2</td>\n",
       "    </tr>\n",
       "    <tr>\n",
       "      <th>6</th>\n",
       "      <td>57.5</td>\n",
       "      <td>32.8</td>\n",
       "      <td>23.5</td>\n",
       "      <td>11.8</td>\n",
       "    </tr>\n",
       "    <tr>\n",
       "      <th>7</th>\n",
       "      <td>120.2</td>\n",
       "      <td>19.6</td>\n",
       "      <td>11.6</td>\n",
       "      <td>13.2</td>\n",
       "    </tr>\n",
       "    <tr>\n",
       "      <th>8</th>\n",
       "      <td>8.6</td>\n",
       "      <td>2.1</td>\n",
       "      <td>1.0</td>\n",
       "      <td>4.8</td>\n",
       "    </tr>\n",
       "    <tr>\n",
       "      <th>9</th>\n",
       "      <td>199.8</td>\n",
       "      <td>2.6</td>\n",
       "      <td>21.2</td>\n",
       "      <td>15.6</td>\n",
       "    </tr>\n",
       "  </tbody>\n",
       "</table>\n",
       "</div>"
      ],
      "text/plain": [
       "      TV  Radio  Newspaper  Sales\n",
       "0  230.1   37.8       69.2   22.1\n",
       "1   44.5   39.3       45.1   10.4\n",
       "2   17.2   45.9       69.3   12.0\n",
       "3  151.5   41.3       58.5   16.5\n",
       "4  180.8   10.8       58.4   17.9\n",
       "5    8.7   48.9       75.0    7.2\n",
       "6   57.5   32.8       23.5   11.8\n",
       "7  120.2   19.6       11.6   13.2\n",
       "8    8.6    2.1        1.0    4.8\n",
       "9  199.8    2.6       21.2   15.6"
      ]
     },
     "execution_count": 16,
     "metadata": {},
     "output_type": "execute_result"
    }
   ],
   "source": [
    "data = pd.read_csv('advertising.csv')\n",
    "data.head(10)"
   ]
  },
  {
   "cell_type": "code",
   "execution_count": 17,
   "metadata": {},
   "outputs": [
    {
     "data": {
      "text/plain": [
       "'\\ntrain_test_split = splitting data arrays into two subsets (training & testing data)\\ntest_size = size of the test set\\nrandom_state = seed for the random number generator (controls the shuffling applied to the data BEFORE applying the split)\\n'"
      ]
     },
     "execution_count": 17,
     "metadata": {},
     "output_type": "execute_result"
    }
   ],
   "source": [
    "x = data[['TV', 'Radio', 'Newspaper']]\n",
    "y = data['Sales'] # how many sales are made\n",
    "\n",
    "from sklearn.model_selection import train_test_split\n",
    "from sklearn.linear_model import LinearRegression\n",
    "\n",
    "x_train, x_test, y_train, y_test = train_test_split(x, y, test_size = 0.3, random_state = 100)\n",
    "\n",
    "'''\n",
    "train_test_split = splitting data arrays into two subsets (training & testing data)\n",
    "test_size = size of the test set\n",
    "random_state = seed for the random number generator (controls the shuffling applied to the data BEFORE applying the split)\n",
    "'''"
   ]
  },
  {
   "cell_type": "code",
   "execution_count": 18,
   "metadata": {},
   "outputs": [
    {
     "name": "stdout",
     "output_type": "stream",
     "text": [
      "intercept:  4.334595861728431\n",
      "coefficients:  [0.05382911 0.11001224 0.00628995]\n"
     ]
    },
    {
     "data": {
      "text/plain": [
       "[('TV', 0.053829108667250075),\n",
       " ('Radio', 0.11001224388558056),\n",
       " ('Newspaper', 0.006289950146130346)]"
      ]
     },
     "execution_count": 18,
     "metadata": {},
     "output_type": "execute_result"
    }
   ],
   "source": [
    "mlr = LinearRegression()\n",
    "mlr.fit(x_train, y_train)\n",
    "\n",
    "print(\"intercept: \", mlr.intercept_) # Beta0 / y-intercept \n",
    "print(\"coefficients: \", mlr.coef_) # Beta1, Beta2, Beta3 / slope\n",
    "\n",
    "list(zip(['TV', 'Radio', 'Newspaper'], mlr.coef_))\n"
   ]
  },
  {
   "attachments": {},
   "cell_type": "markdown",
   "metadata": {},
   "source": [
    "## MLR equation / MLR model\n",
    "\n",
    "Y = B0 + B1X1 + B2X2 + B3X3\n",
    "\n",
    "X1 = TV\n",
    "\n",
    "X2 = Radio\n",
    "\n",
    "X3 = Newspaper\n",
    "\n",
    "### Sales = 4.3345 + 0.0538TV + 0.11Radio + 0.006Newspaper + e\n",
    "\n",
    "e = error"
   ]
  },
  {
   "cell_type": "code",
   "execution_count": 22,
   "metadata": {},
   "outputs": [
    {
     "name": "stdout",
     "output_type": "stream",
     "text": [
      "test set prediction: [ 9.35221067 20.96344625 16.48851064 20.10971005 21.67148354 16.16054424\n",
      " 13.5618056  15.39338129 20.81980757 21.00537077 12.29451311 20.70848608\n",
      "  8.17367308 16.82471534 10.48954832  9.99530649 16.34698901 14.5758119\n",
      " 17.23065133 12.56890735 18.55715915 12.12402775 20.43312609 17.78017811\n",
      " 16.73623408 21.60387629 20.13532087 10.82559967 19.12782848 14.84537816\n",
      " 13.13597397  9.07757918 12.07834143 16.62824427  8.41792841 14.0456697\n",
      "  9.92050209 14.26101605 16.76262961 17.17185467 18.88797595 15.50165469\n",
      " 15.78688377 16.86266686 13.03405813 10.47673934 10.6141644  20.85264977\n",
      " 10.1517568   6.88471443 17.88702583 18.16013938 12.55907083 16.28189561\n",
      " 18.98024679 11.33714913  5.91026916 10.06159509 17.62383031 13.19628335]\n"
     ]
    },
    {
     "data": {
      "text/plain": [
       "Text(0, 0.5, 'Sales')"
      ]
     },
     "execution_count": 22,
     "metadata": {},
     "output_type": "execute_result"
    },
    {
     "data": {
      "image/png": "[encoded data removed]",
      "text/plain": [
       "<Figure size 432x288 with 1 Axes>"
      ]
     },
     "metadata": {
      "needs_background": "light"
     },
     "output_type": "display_data"
    }
   ],
   "source": [
    "# check how accurate the model is\n",
    "y_pred_mlr = mlr.predict(x_test)\n",
    "print(\"test set prediction: {}\".format(y_pred_mlr))\n",
    "\n",
    "# actual vs predicted\n",
    "c = [i for i in range(1, 61, 1)]\n",
    "fig = plt.figure()\n",
    "plt.plot(c, y_test, color = \"blue\", linewidth = 2.5, linestyle = \"-\")\n",
    "plt.plot(c, y_pred_mlr, color = \"red\", linewidth = 2.5, linestyle = \"-\")\n",
    "fig.suptitle(\"Actual (blue) vs Predicted (red)\", fontsize = 20)\n",
    "plt.xlabel(\"Index\", fontsize = 18)\n",
    "plt.ylabel(\"Sales\", fontsize = 16)\n"
   ]
  },
  {
   "cell_type": "code",
   "execution_count": 26,
   "metadata": {},
   "outputs": [
    {
     "name": "stdout",
     "output_type": "stream",
     "text": [
      "MAE:  1.227818356658941\n",
      "MSE:  2.6360765623280646\n",
      "RMSE:  1.6235998775338907\n",
      "R-squared: 90.11\n"
     ]
    }
   ],
   "source": [
    "# Model evaluation\n",
    "\n",
    "from sklearn import metrics\n",
    "\n",
    "# mean absolute error (MAE), mean squared error (MSE), root mean squared error (RMSE)\n",
    "print(\"MAE: \", metrics.mean_absolute_error(y_test, y_pred_mlr))\n",
    "print(\"MSE: \", metrics.mean_squared_error(y_test, y_pred_mlr))\n",
    "print(\"RMSE: \", np.sqrt(metrics.mean_squared_error(y_test, y_pred_mlr)))\n",
    "\n",
    "# R-squared\n",
    "print(\"R-squared: {:.2f}\".format(mlr.score(x,y)*100))\n",
    "# R squared (coefficient of determination) tells us how many points fall ON the regression line\n",
    "# 90.11 means that the 90.11% of the data FIT the regression line model.\n",
    "\n"
   ]
  }
 ],
 "metadata": {
  "kernelspec": {
   "display_name": "Python 3",
   "language": "python",
   "name": "python3"
  },
  "language_info": {
   "codemirror_mode": {
    "name": "ipython",
    "version": 3
   },
   "file_extension": ".py",
   "mimetype": "text/x-python",
   "name": "python",
   "nbconvert_exporter": "python",
   "pygments_lexer": "ipython3",
   "version": "3.10.2"
  },
  "orig_nbformat": 4,
  "vscode": {
   "interpreter": {
    "hash": "661c9fc443e9071e90d7dc80d4092ed007e1e67e17e12b1f6b1cd12c13d9aa66"
   }
  }
 },
 "nbformat": 4,
 "nbformat_minor": 2
}
